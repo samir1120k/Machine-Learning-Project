{
  "nbformat": 4,
  "nbformat_minor": 0,
  "metadata": {
    "colab": {
      "provenance": [],
      "gpuType": "T4",
      "authorship_tag": "ABX9TyP0sftZR4c2xFGqowi8CT4P",
      "include_colab_link": true
    },
    "kernelspec": {
      "name": "python3",
      "display_name": "Python 3"
    },
    "language_info": {
      "name": "python"
    },
    "accelerator": "GPU"
  },
  "cells": [
    {
      "cell_type": "markdown",
      "metadata": {
        "id": "view-in-github",
        "colab_type": "text"
      },
      "source": [
        "<a href=\"https://colab.research.google.com/github/samir1120k/Machine-Learning-Project/blob/IMDB-Web-Scrape/API_data_fetching.ipynb\" target=\"_parent\"><img src=\"https://colab.research.google.com/assets/colab-badge.svg\" alt=\"Open In Colab\"/></a>"
      ]
    },
    {
      "source": [
        "from bs4 import BeautifulSoup\n",
        "import requests\n",
        "\n",
        "url = 'https://www.imdb.com/title/tt0111174/?ref_=chttp_t_1'\n",
        "headers = {'User-Agent': 'Mozilla/5.0'}\n",
        "\n",
        "response = requests.get(url, headers=headers)\n",
        "\n",
        "# Instead of response.json(), use BeautifulSoup to parse the HTML content\n",
        "soup = BeautifulSoup(response.content, 'html.parser')\n",
        "\n",
        "# Now you can use BeautifulSoup methods to extract information from the HTML\n",
        "# For example, to get the title of the movie:\n",
        "title = soup.find('title').text\n",
        "\n",
        "print(title)"
      ],
      "cell_type": "code",
      "metadata": {
        "colab": {
          "base_uri": "https://localhost:8080/"
        },
        "id": "IoZrnezvsZEB",
        "outputId": "7f8e29e2-52ec-4543-a6fb-ae69ed97dbd5"
      },
      "execution_count": 1,
      "outputs": [
        {
          "output_type": "stream",
          "name": "stdout",
          "text": [
            "Showdown (1993) - IMDb\n"
          ]
        }
      ]
    },
    {
      "cell_type": "code",
      "source": [
        "director_element = soup.find('a', attrs={'class': 'ipc-metadata-list-item__list-content-item ipc-metadata-list-item__list-content-item--link'}).text.strip()\n",
        "print(director_element)"
      ],
      "metadata": {
        "colab": {
          "base_uri": "https://localhost:8080/"
        },
        "id": "8lHbBYOJswMT",
        "outputId": "1caa11ff-e43d-453e-8ccd-e218a358a8d0"
      },
      "execution_count": 3,
      "outputs": [
        {
          "output_type": "stream",
          "name": "stdout",
          "text": [
            "Robert Radler\n"
          ]
        }
      ]
    },
    {
      "cell_type": "code",
      "source": [
        "rating=soup.find('span',class_='sc-d541859f-1 imUuxf').text.strip()\n",
        "print(rating)"
      ],
      "metadata": {
        "colab": {
          "base_uri": "https://localhost:8080/"
        },
        "id": "OyTulsi0vB4H",
        "outputId": "956276ed-cbb6-4a41-adc6-fb1a2773085e"
      },
      "execution_count": 4,
      "outputs": [
        {
          "output_type": "stream",
          "name": "stdout",
          "text": [
            "5.2\n"
          ]
        }
      ]
    },
    {
      "cell_type": "code",
      "source": [
        "genres=soup.find('a',class_='ipc-chip ipc-chip--on-baseAlt',).text.strip()\n",
        "print(genres)"
      ],
      "metadata": {
        "colab": {
          "base_uri": "https://localhost:8080/"
        },
        "id": "QH5e62E0x1vc",
        "outputId": "3bba27f5-3e90-4cfa-d812-b353330ffdc1"
      },
      "execution_count": 5,
      "outputs": [
        {
          "output_type": "stream",
          "name": "stdout",
          "text": [
            "Action\n"
          ]
        }
      ]
    },
    {
      "cell_type": "code",
      "source": [
        "cast=soup.find('li',class_='ipc-metadata-list__item ipc-metadata-list-item--link').find('a',class_='ipc-metadata-list-item__list-content-item ipc-metadata-list-item__list-content-item--link').text.strip()\n",
        "print(cast)"
      ],
      "metadata": {
        "colab": {
          "base_uri": "https://localhost:8080/"
        },
        "id": "Brfh8YyM0QqX",
        "outputId": "605909b9-a6cb-460c-b1c3-817b1cb209e7"
      },
      "execution_count": 6,
      "outputs": [
        {
          "output_type": "stream",
          "name": "stdout",
          "text": [
            "Billy Blanks\n"
          ]
        }
      ]
    },
    {
      "cell_type": "code",
      "source": [
        "year=soup.find('div',class_='sc-70a366cc-0 bxYZmb').find('a',class_='ipc-link ipc-link--baseAlt ipc-link--inherit-color').text.strip()\n",
        "print(year)"
      ],
      "metadata": {
        "colab": {
          "base_uri": "https://localhost:8080/"
        },
        "id": "GzAhjxSz0p7l",
        "outputId": "cc13faba-52ad-47af-f6ad-722fedf87a11"
      },
      "execution_count": 7,
      "outputs": [
        {
          "output_type": "stream",
          "name": "stdout",
          "text": [
            "1993\n"
          ]
        }
      ]
    },
    {
      "cell_type": "code",
      "source": [
        "number_of_votes=soup.find('div',class_='sc-d541859f-3 dwhNqC').text.strip()\n",
        "print(number_of_votes)"
      ],
      "metadata": {
        "colab": {
          "base_uri": "https://localhost:8080/"
        },
        "id": "HaRPopvDKKOu",
        "outputId": "b4534e3e-8153-4a4c-e131-2420eeed1c7e"
      },
      "execution_count": 8,
      "outputs": [
        {
          "output_type": "stream",
          "name": "stdout",
          "text": [
            "1.3K\n"
          ]
        }
      ]
    },
    {
      "cell_type": "code",
      "source": [
        "runtime=soup.find('ul',class_='ipc-inline-list ipc-inline-list--show-dividers sc-ec65ba05-2 joVhBE baseAlt').find('li',class_='ipc-inline-list__item').next_sibling.next_sibling.text.strip()\n",
        "print(runtime)\n"
      ],
      "metadata": {
        "colab": {
          "base_uri": "https://localhost:8080/"
        },
        "id": "WoEUYnfvKu_a",
        "outputId": "9a05e0c3-ddd5-4c9b-c3ff-033ce6409125"
      },
      "execution_count": 9,
      "outputs": [
        {
          "output_type": "stream",
          "name": "stdout",
          "text": [
            "1h 38m\n"
          ]
        }
      ]
    },
    {
      "cell_type": "code",
      "source": [
        "! nvidia-smi"
      ],
      "metadata": {
        "colab": {
          "base_uri": "https://localhost:8080/"
        },
        "id": "-8Q_EiEcegh4",
        "outputId": "2c499b37-24a6-4ee9-e3d7-c84367dc070e"
      },
      "execution_count": 9,
      "outputs": [
        {
          "output_type": "stream",
          "name": "stdout",
          "text": [
            "Sun Dec  8 13:33:59 2024       \n",
            "+---------------------------------------------------------------------------------------+\n",
            "| NVIDIA-SMI 535.104.05             Driver Version: 535.104.05   CUDA Version: 12.2     |\n",
            "|-----------------------------------------+----------------------+----------------------+\n",
            "| GPU  Name                 Persistence-M | Bus-Id        Disp.A | Volatile Uncorr. ECC |\n",
            "| Fan  Temp   Perf          Pwr:Usage/Cap |         Memory-Usage | GPU-Util  Compute M. |\n",
            "|                                         |                      |               MIG M. |\n",
            "|=========================================+======================+======================|\n",
            "|   0  Tesla T4                       Off | 00000000:00:04.0 Off |                    0 |\n",
            "| N/A   41C    P8               9W /  70W |      3MiB / 15360MiB |      0%      Default |\n",
            "|                                         |                      |                  N/A |\n",
            "+-----------------------------------------+----------------------+----------------------+\n",
            "                                                                                         \n",
            "+---------------------------------------------------------------------------------------+\n",
            "| Processes:                                                                            |\n",
            "|  GPU   GI   CI        PID   Type   Process name                            GPU Memory |\n",
            "|        ID   ID                                                             Usage      |\n",
            "|=======================================================================================|\n",
            "|  No running processes found                                                           |\n",
            "+---------------------------------------------------------------------------------------+\n"
          ]
        }
      ]
    },
    {
      "cell_type": "code",
      "source": [
        "import pandas as pd\n",
        "final=pd.DataFrame()"
      ],
      "metadata": {
        "id": "bRs6Bs8zcNGf"
      },
      "execution_count": 3,
      "outputs": []
    },
    {
      "cell_type": "code",
      "source": [
        "import torch\n",
        "device = torch.device(\"cuda\" if torch.cuda.is_available() else \"cpu\")"
      ],
      "metadata": {
        "id": "3BIhe7ixdCGX"
      },
      "execution_count": 4,
      "outputs": []
    },
    {
      "cell_type": "code",
      "source": [
        "from bs4 import BeautifulSoup\n",
        "import requests"
      ],
      "metadata": {
        "id": "tY489MJtdh4Q"
      },
      "execution_count": 5,
      "outputs": []
    },
    {
      "cell_type": "code",
      "source": [
        "for j in range(60,70):\n",
        "  for i in range(10,100):\n",
        "    url = 'https://www.imdb.com/title/tt011{}{}/?ref_=chttp_t_1'.format(j,i)\n",
        "    headers = {'User-Agent': 'Mozilla/5.0'}\n",
        "\n",
        "    response = requests.get(url, headers=headers)\n",
        "    soup = BeautifulSoup(response.content, 'html.parser')\n",
        "    Title=[]\n",
        "    Director_name=[]\n",
        "    Rating=[]\n",
        "    Genres=[]\n",
        "    Cast=[]\n",
        "    Year=[]\n",
        "    Number_of_votes=[]\n",
        "    Runtime=[]\n",
        "\n",
        "    title = soup.find('title').text\n",
        "    Title.append(title)\n",
        "\n",
        "    director_element = soup.find('a', attrs={'class': 'ipc-metadata-list-item__list-content-item ipc-metadata-list-item__list-content-item--link'})\n",
        "    if director_element:\n",
        "        director_element = director_element.text.strip()\n",
        "    else:\n",
        "        director_element = \"N/A\"  # Assign a default value if not found\n",
        "    Director_name.append(director_element)\n",
        "\n",
        "    rating=soup.find('span',class_='sc-d541859f-1 imUuxf')\n",
        "    if rating:\n",
        "      rating = rating.text.strip()\n",
        "      Rating.append(rating)\n",
        "    else:\n",
        "      # Handle the case where the rating element is not found\n",
        "      Rating.append(\"N/A\")\n",
        "\n",
        "    genres=soup.find('a',class_='ipc-chip ipc-chip--on-baseAlt',)\n",
        "    if genres:\n",
        "      genres = genres.text.strip()\n",
        "      Genres.append(genres)\n",
        "    else:\n",
        "      # Handle the case where the element is not found\n",
        "      Genres.append(\"N/A\")\n",
        "\n",
        "    cast=soup.find('li',class_='ipc-metadata-list__item ipc-metadata-list-item--link')\n",
        "    if cast:\n",
        "      cast = cast.find('a',class_='ipc-metadata-list-item__list-content-item ipc-metadata-list-item__list-content-item--link')\n",
        "      if cast:\n",
        "        cast = cast.text.strip()\n",
        "        Cast.append(cast)\n",
        "      else:\n",
        "        Cast.append(\"N/A\")\n",
        "    else:\n",
        "      Cast.append(\"N/A\")\n",
        "\n",
        "\n",
        "\n",
        "    year_element = soup.find('div',class_='sc-70a366cc-0 bxYZmb')\n",
        "    if year_element:  # Check if year_element is not None\n",
        "      year_element = year_element.find('a',class_='ipc-link ipc-link--baseAlt ipc-link--inherit-color')\n",
        "      if year_element: #check if inner find was successful\n",
        "          year = year_element.text.strip()\n",
        "          Year.append(year)\n",
        "      else:\n",
        "          Year.append(\"N/A\")\n",
        "    else:\n",
        "        Year.append(\"N/A\")\n",
        "\n",
        "\n",
        "    number_of_votes_element = soup.find('div', class_='sc-d541859f-3 dwhNqC')\n",
        "    if number_of_votes_element:\n",
        "        number_of_votes = number_of_votes_element.text.strip()\n",
        "        Number_of_votes.append(number_of_votes)\n",
        "    else:\n",
        "          # Handle the case where the element is not found\n",
        "        Number_of_votes.append(\"N/A\")\n",
        "\n",
        "    runtime_element = soup.find('ul',class_='ipc-inline-list ipc-inline-list--show-dividers sc-ec65ba05-2 joVhBE baseAlt')\n",
        "    if runtime_element:\n",
        "        runtime_element = runtime_element.find('li',class_='ipc-inline-list__item')\n",
        "        if runtime_element and runtime_element.next_sibling and runtime_element.next_sibling.next_sibling:\n",
        "            runtime = runtime_element.next_sibling.next_sibling.text.strip()\n",
        "        elif runtime_element and runtime_element.next_sibling:\n",
        "            runtime = runtime_element.next_sibling.text.strip()\n",
        "        else:\n",
        "            runtime = \"N/A\"\n",
        "    else:\n",
        "        runtime = \"N/A\"\n",
        "\n",
        "\n",
        "    Runtime.append(runtime)\n",
        "\n",
        "    df=pd.DataFrame({'Title':Title,'Director_name':Director_name,'Rating':Rating,'Genres':Genres,'Cast':Cast,'Year':Year,'Number_of_votes':Number_of_votes,'Runtime':Runtime})\n",
        "    final=pd.concat([final,df],axis=0)"
      ],
      "metadata": {
        "id": "7IQRPDoUNvgq"
      },
      "execution_count": 105,
      "outputs": []
    },
    {
      "cell_type": "code",
      "source": [
        "final.shape"
      ],
      "metadata": {
        "id": "Z-WtZy2pYGvw",
        "outputId": "aeffbcd7-2f6e-46a8-fd4e-295d08bb3f2c",
        "colab": {
          "base_uri": "https://localhost:8080/"
        }
      },
      "execution_count": 106,
      "outputs": [
        {
          "output_type": "execute_result",
          "data": {
            "text/plain": [
              "(5124, 8)"
            ]
          },
          "metadata": {},
          "execution_count": 106
        }
      ]
    },
    {
      "cell_type": "code",
      "source": [
        "final.duplicated().sum()"
      ],
      "metadata": {
        "id": "j4cX4ZlGCkHN",
        "colab": {
          "base_uri": "https://localhost:8080/"
        },
        "outputId": "09fbd022-8f29-4435-a471-4e2c1a340d82"
      },
      "execution_count": 104,
      "outputs": [
        {
          "output_type": "execute_result",
          "data": {
            "text/plain": [
              "0"
            ]
          },
          "metadata": {},
          "execution_count": 104
        }
      ]
    },
    {
      "cell_type": "code",
      "source": [
        "final.drop_duplicates(inplace=True)"
      ],
      "metadata": {
        "id": "BvOnVCEOl39y"
      },
      "execution_count": 102,
      "outputs": []
    },
    {
      "cell_type": "code",
      "source": [
        "final.to_csv('imdb_data.csv',index=False)"
      ],
      "metadata": {
        "id": "Pze3ngs67aI3"
      },
      "execution_count": 107,
      "outputs": []
    },
    {
      "cell_type": "code",
      "source": [
        "final"
      ],
      "metadata": {
        "colab": {
          "base_uri": "https://localhost:8080/",
          "height": 562
        },
        "id": "zV1BOHNZLnHT",
        "outputId": "df1cf240-96ae-4e4e-c0c2-e5c501927197"
      },
      "execution_count": 108,
      "outputs": [
        {
          "output_type": "execute_result",
          "data": {
            "text/plain": [
              "                                                Title     Director_name  \\\n",
              "0     The Secret of Life on Earth (Short 1993) - IMDb     Adrian Warren   \n",
              "0              The Secret of Roan Inish (1994) - IMDb       John Sayles   \n",
              "0                The Pamela Principle 2 (1994) - IMDb    Edward Holzman   \n",
              "0              Seduced by Evil (TV Movie 1994) - IMDb      Tony Wharmby   \n",
              "0                  Seers & Clowns (Short 1994) - IMDb      Faith Hubley   \n",
              "..                                                ...               ...   \n",
              "0                       Marquis de Sade (1996) - IMDb     Gwyneth Gibby   \n",
              "0                         Mars Attacks! (1996) - IMDb        Tim Burton   \n",
              "0                  Marshal Law (TV Movie 1996) - IMDb  Stephen Cornwell   \n",
              "0   Marvin the Martian in the Third Dimension (Sho...  Douglas McCarthy   \n",
              "0                         Marvin's Room (1996) - IMDb        Jerry Zaks   \n",
              "\n",
              "   Rating              Genres             Cast  Year Number_of_votes Runtime  \n",
              "0     7.2         Documentary              N/A  1993             107     42m  \n",
              "0     7.4          Fairy Tale    Jeni Courtney  1994             10K  1h 43m  \n",
              "0     4.2      Steamy Romance      India Allen  1994             261  1h 37m  \n",
              "0     3.3             Fantasy   Suzanne Somers  1994             176   PG-13  \n",
              "0     5.9           Animation              N/A  1994              11      9m  \n",
              "..    ...                 ...              ...   ...             ...     ...  \n",
              "0     4.3               Drama     Nick Mancuso  1996             689  1h 33m  \n",
              "0     6.4      Alien Invasion        Len Brown  1996            249K  1h 46m  \n",
              "0     4.4              Action      Jimmy Smits  1996             387       R  \n",
              "0     5.8  Computer Animation       Mark Eades  1996             197     12m  \n",
              "0     6.7               Drama  Scott McPherson  1996             31K  1h 38m  \n",
              "\n",
              "[5124 rows x 8 columns]"
            ],
            "text/html": [
              "\n",
              "  <div id=\"df-1ee18fcb-fbbb-47c2-bcaf-26441a25afea\" class=\"colab-df-container\">\n",
              "    <div>\n",
              "<style scoped>\n",
              "    .dataframe tbody tr th:only-of-type {\n",
              "        vertical-align: middle;\n",
              "    }\n",
              "\n",
              "    .dataframe tbody tr th {\n",
              "        vertical-align: top;\n",
              "    }\n",
              "\n",
              "    .dataframe thead th {\n",
              "        text-align: right;\n",
              "    }\n",
              "</style>\n",
              "<table border=\"1\" class=\"dataframe\">\n",
              "  <thead>\n",
              "    <tr style=\"text-align: right;\">\n",
              "      <th></th>\n",
              "      <th>Title</th>\n",
              "      <th>Director_name</th>\n",
              "      <th>Rating</th>\n",
              "      <th>Genres</th>\n",
              "      <th>Cast</th>\n",
              "      <th>Year</th>\n",
              "      <th>Number_of_votes</th>\n",
              "      <th>Runtime</th>\n",
              "    </tr>\n",
              "  </thead>\n",
              "  <tbody>\n",
              "    <tr>\n",
              "      <th>0</th>\n",
              "      <td>The Secret of Life on Earth (Short 1993) - IMDb</td>\n",
              "      <td>Adrian Warren</td>\n",
              "      <td>7.2</td>\n",
              "      <td>Documentary</td>\n",
              "      <td>N/A</td>\n",
              "      <td>1993</td>\n",
              "      <td>107</td>\n",
              "      <td>42m</td>\n",
              "    </tr>\n",
              "    <tr>\n",
              "      <th>0</th>\n",
              "      <td>The Secret of Roan Inish (1994) - IMDb</td>\n",
              "      <td>John Sayles</td>\n",
              "      <td>7.4</td>\n",
              "      <td>Fairy Tale</td>\n",
              "      <td>Jeni Courtney</td>\n",
              "      <td>1994</td>\n",
              "      <td>10K</td>\n",
              "      <td>1h 43m</td>\n",
              "    </tr>\n",
              "    <tr>\n",
              "      <th>0</th>\n",
              "      <td>The Pamela Principle 2 (1994) - IMDb</td>\n",
              "      <td>Edward Holzman</td>\n",
              "      <td>4.2</td>\n",
              "      <td>Steamy Romance</td>\n",
              "      <td>India Allen</td>\n",
              "      <td>1994</td>\n",
              "      <td>261</td>\n",
              "      <td>1h 37m</td>\n",
              "    </tr>\n",
              "    <tr>\n",
              "      <th>0</th>\n",
              "      <td>Seduced by Evil (TV Movie 1994) - IMDb</td>\n",
              "      <td>Tony Wharmby</td>\n",
              "      <td>3.3</td>\n",
              "      <td>Fantasy</td>\n",
              "      <td>Suzanne Somers</td>\n",
              "      <td>1994</td>\n",
              "      <td>176</td>\n",
              "      <td>PG-13</td>\n",
              "    </tr>\n",
              "    <tr>\n",
              "      <th>0</th>\n",
              "      <td>Seers &amp; Clowns (Short 1994) - IMDb</td>\n",
              "      <td>Faith Hubley</td>\n",
              "      <td>5.9</td>\n",
              "      <td>Animation</td>\n",
              "      <td>N/A</td>\n",
              "      <td>1994</td>\n",
              "      <td>11</td>\n",
              "      <td>9m</td>\n",
              "    </tr>\n",
              "    <tr>\n",
              "      <th>...</th>\n",
              "      <td>...</td>\n",
              "      <td>...</td>\n",
              "      <td>...</td>\n",
              "      <td>...</td>\n",
              "      <td>...</td>\n",
              "      <td>...</td>\n",
              "      <td>...</td>\n",
              "      <td>...</td>\n",
              "    </tr>\n",
              "    <tr>\n",
              "      <th>0</th>\n",
              "      <td>Marquis de Sade (1996) - IMDb</td>\n",
              "      <td>Gwyneth Gibby</td>\n",
              "      <td>4.3</td>\n",
              "      <td>Drama</td>\n",
              "      <td>Nick Mancuso</td>\n",
              "      <td>1996</td>\n",
              "      <td>689</td>\n",
              "      <td>1h 33m</td>\n",
              "    </tr>\n",
              "    <tr>\n",
              "      <th>0</th>\n",
              "      <td>Mars Attacks! (1996) - IMDb</td>\n",
              "      <td>Tim Burton</td>\n",
              "      <td>6.4</td>\n",
              "      <td>Alien Invasion</td>\n",
              "      <td>Len Brown</td>\n",
              "      <td>1996</td>\n",
              "      <td>249K</td>\n",
              "      <td>1h 46m</td>\n",
              "    </tr>\n",
              "    <tr>\n",
              "      <th>0</th>\n",
              "      <td>Marshal Law (TV Movie 1996) - IMDb</td>\n",
              "      <td>Stephen Cornwell</td>\n",
              "      <td>4.4</td>\n",
              "      <td>Action</td>\n",
              "      <td>Jimmy Smits</td>\n",
              "      <td>1996</td>\n",
              "      <td>387</td>\n",
              "      <td>R</td>\n",
              "    </tr>\n",
              "    <tr>\n",
              "      <th>0</th>\n",
              "      <td>Marvin the Martian in the Third Dimension (Sho...</td>\n",
              "      <td>Douglas McCarthy</td>\n",
              "      <td>5.8</td>\n",
              "      <td>Computer Animation</td>\n",
              "      <td>Mark Eades</td>\n",
              "      <td>1996</td>\n",
              "      <td>197</td>\n",
              "      <td>12m</td>\n",
              "    </tr>\n",
              "    <tr>\n",
              "      <th>0</th>\n",
              "      <td>Marvin's Room (1996) - IMDb</td>\n",
              "      <td>Jerry Zaks</td>\n",
              "      <td>6.7</td>\n",
              "      <td>Drama</td>\n",
              "      <td>Scott McPherson</td>\n",
              "      <td>1996</td>\n",
              "      <td>31K</td>\n",
              "      <td>1h 38m</td>\n",
              "    </tr>\n",
              "  </tbody>\n",
              "</table>\n",
              "<p>5124 rows × 8 columns</p>\n",
              "</div>\n",
              "    <div class=\"colab-df-buttons\">\n",
              "\n",
              "  <div class=\"colab-df-container\">\n",
              "    <button class=\"colab-df-convert\" onclick=\"convertToInteractive('df-1ee18fcb-fbbb-47c2-bcaf-26441a25afea')\"\n",
              "            title=\"Convert this dataframe to an interactive table.\"\n",
              "            style=\"display:none;\">\n",
              "\n",
              "  <svg xmlns=\"http://www.w3.org/2000/svg\" height=\"24px\" viewBox=\"0 -960 960 960\">\n",
              "    <path d=\"M120-120v-720h720v720H120Zm60-500h600v-160H180v160Zm220 220h160v-160H400v160Zm0 220h160v-160H400v160ZM180-400h160v-160H180v160Zm440 0h160v-160H620v160ZM180-180h160v-160H180v160Zm440 0h160v-160H620v160Z\"/>\n",
              "  </svg>\n",
              "    </button>\n",
              "\n",
              "  <style>\n",
              "    .colab-df-container {\n",
              "      display:flex;\n",
              "      gap: 12px;\n",
              "    }\n",
              "\n",
              "    .colab-df-convert {\n",
              "      background-color: #E8F0FE;\n",
              "      border: none;\n",
              "      border-radius: 50%;\n",
              "      cursor: pointer;\n",
              "      display: none;\n",
              "      fill: #1967D2;\n",
              "      height: 32px;\n",
              "      padding: 0 0 0 0;\n",
              "      width: 32px;\n",
              "    }\n",
              "\n",
              "    .colab-df-convert:hover {\n",
              "      background-color: #E2EBFA;\n",
              "      box-shadow: 0px 1px 2px rgba(60, 64, 67, 0.3), 0px 1px 3px 1px rgba(60, 64, 67, 0.15);\n",
              "      fill: #174EA6;\n",
              "    }\n",
              "\n",
              "    .colab-df-buttons div {\n",
              "      margin-bottom: 4px;\n",
              "    }\n",
              "\n",
              "    [theme=dark] .colab-df-convert {\n",
              "      background-color: #3B4455;\n",
              "      fill: #D2E3FC;\n",
              "    }\n",
              "\n",
              "    [theme=dark] .colab-df-convert:hover {\n",
              "      background-color: #434B5C;\n",
              "      box-shadow: 0px 1px 3px 1px rgba(0, 0, 0, 0.15);\n",
              "      filter: drop-shadow(0px 1px 2px rgba(0, 0, 0, 0.3));\n",
              "      fill: #FFFFFF;\n",
              "    }\n",
              "  </style>\n",
              "\n",
              "    <script>\n",
              "      const buttonEl =\n",
              "        document.querySelector('#df-1ee18fcb-fbbb-47c2-bcaf-26441a25afea button.colab-df-convert');\n",
              "      buttonEl.style.display =\n",
              "        google.colab.kernel.accessAllowed ? 'block' : 'none';\n",
              "\n",
              "      async function convertToInteractive(key) {\n",
              "        const element = document.querySelector('#df-1ee18fcb-fbbb-47c2-bcaf-26441a25afea');\n",
              "        const dataTable =\n",
              "          await google.colab.kernel.invokeFunction('convertToInteractive',\n",
              "                                                    [key], {});\n",
              "        if (!dataTable) return;\n",
              "\n",
              "        const docLinkHtml = 'Like what you see? Visit the ' +\n",
              "          '<a target=\"_blank\" href=https://colab.research.google.com/notebooks/data_table.ipynb>data table notebook</a>'\n",
              "          + ' to learn more about interactive tables.';\n",
              "        element.innerHTML = '';\n",
              "        dataTable['output_type'] = 'display_data';\n",
              "        await google.colab.output.renderOutput(dataTable, element);\n",
              "        const docLink = document.createElement('div');\n",
              "        docLink.innerHTML = docLinkHtml;\n",
              "        element.appendChild(docLink);\n",
              "      }\n",
              "    </script>\n",
              "  </div>\n",
              "\n",
              "\n",
              "<div id=\"df-070b9d67-5d2a-4793-83a9-81680d792656\">\n",
              "  <button class=\"colab-df-quickchart\" onclick=\"quickchart('df-070b9d67-5d2a-4793-83a9-81680d792656')\"\n",
              "            title=\"Suggest charts\"\n",
              "            style=\"display:none;\">\n",
              "\n",
              "<svg xmlns=\"http://www.w3.org/2000/svg\" height=\"24px\"viewBox=\"0 0 24 24\"\n",
              "     width=\"24px\">\n",
              "    <g>\n",
              "        <path d=\"M19 3H5c-1.1 0-2 .9-2 2v14c0 1.1.9 2 2 2h14c1.1 0 2-.9 2-2V5c0-1.1-.9-2-2-2zM9 17H7v-7h2v7zm4 0h-2V7h2v10zm4 0h-2v-4h2v4z\"/>\n",
              "    </g>\n",
              "</svg>\n",
              "  </button>\n",
              "\n",
              "<style>\n",
              "  .colab-df-quickchart {\n",
              "      --bg-color: #E8F0FE;\n",
              "      --fill-color: #1967D2;\n",
              "      --hover-bg-color: #E2EBFA;\n",
              "      --hover-fill-color: #174EA6;\n",
              "      --disabled-fill-color: #AAA;\n",
              "      --disabled-bg-color: #DDD;\n",
              "  }\n",
              "\n",
              "  [theme=dark] .colab-df-quickchart {\n",
              "      --bg-color: #3B4455;\n",
              "      --fill-color: #D2E3FC;\n",
              "      --hover-bg-color: #434B5C;\n",
              "      --hover-fill-color: #FFFFFF;\n",
              "      --disabled-bg-color: #3B4455;\n",
              "      --disabled-fill-color: #666;\n",
              "  }\n",
              "\n",
              "  .colab-df-quickchart {\n",
              "    background-color: var(--bg-color);\n",
              "    border: none;\n",
              "    border-radius: 50%;\n",
              "    cursor: pointer;\n",
              "    display: none;\n",
              "    fill: var(--fill-color);\n",
              "    height: 32px;\n",
              "    padding: 0;\n",
              "    width: 32px;\n",
              "  }\n",
              "\n",
              "  .colab-df-quickchart:hover {\n",
              "    background-color: var(--hover-bg-color);\n",
              "    box-shadow: 0 1px 2px rgba(60, 64, 67, 0.3), 0 1px 3px 1px rgba(60, 64, 67, 0.15);\n",
              "    fill: var(--button-hover-fill-color);\n",
              "  }\n",
              "\n",
              "  .colab-df-quickchart-complete:disabled,\n",
              "  .colab-df-quickchart-complete:disabled:hover {\n",
              "    background-color: var(--disabled-bg-color);\n",
              "    fill: var(--disabled-fill-color);\n",
              "    box-shadow: none;\n",
              "  }\n",
              "\n",
              "  .colab-df-spinner {\n",
              "    border: 2px solid var(--fill-color);\n",
              "    border-color: transparent;\n",
              "    border-bottom-color: var(--fill-color);\n",
              "    animation:\n",
              "      spin 1s steps(1) infinite;\n",
              "  }\n",
              "\n",
              "  @keyframes spin {\n",
              "    0% {\n",
              "      border-color: transparent;\n",
              "      border-bottom-color: var(--fill-color);\n",
              "      border-left-color: var(--fill-color);\n",
              "    }\n",
              "    20% {\n",
              "      border-color: transparent;\n",
              "      border-left-color: var(--fill-color);\n",
              "      border-top-color: var(--fill-color);\n",
              "    }\n",
              "    30% {\n",
              "      border-color: transparent;\n",
              "      border-left-color: var(--fill-color);\n",
              "      border-top-color: var(--fill-color);\n",
              "      border-right-color: var(--fill-color);\n",
              "    }\n",
              "    40% {\n",
              "      border-color: transparent;\n",
              "      border-right-color: var(--fill-color);\n",
              "      border-top-color: var(--fill-color);\n",
              "    }\n",
              "    60% {\n",
              "      border-color: transparent;\n",
              "      border-right-color: var(--fill-color);\n",
              "    }\n",
              "    80% {\n",
              "      border-color: transparent;\n",
              "      border-right-color: var(--fill-color);\n",
              "      border-bottom-color: var(--fill-color);\n",
              "    }\n",
              "    90% {\n",
              "      border-color: transparent;\n",
              "      border-bottom-color: var(--fill-color);\n",
              "    }\n",
              "  }\n",
              "</style>\n",
              "\n",
              "  <script>\n",
              "    async function quickchart(key) {\n",
              "      const quickchartButtonEl =\n",
              "        document.querySelector('#' + key + ' button');\n",
              "      quickchartButtonEl.disabled = true;  // To prevent multiple clicks.\n",
              "      quickchartButtonEl.classList.add('colab-df-spinner');\n",
              "      try {\n",
              "        const charts = await google.colab.kernel.invokeFunction(\n",
              "            'suggestCharts', [key], {});\n",
              "      } catch (error) {\n",
              "        console.error('Error during call to suggestCharts:', error);\n",
              "      }\n",
              "      quickchartButtonEl.classList.remove('colab-df-spinner');\n",
              "      quickchartButtonEl.classList.add('colab-df-quickchart-complete');\n",
              "    }\n",
              "    (() => {\n",
              "      let quickchartButtonEl =\n",
              "        document.querySelector('#df-070b9d67-5d2a-4793-83a9-81680d792656 button');\n",
              "      quickchartButtonEl.style.display =\n",
              "        google.colab.kernel.accessAllowed ? 'block' : 'none';\n",
              "    })();\n",
              "  </script>\n",
              "</div>\n",
              "\n",
              "  <div id=\"id_23ca3740-90cb-42b3-8297-42e288029aa5\">\n",
              "    <style>\n",
              "      .colab-df-generate {\n",
              "        background-color: #E8F0FE;\n",
              "        border: none;\n",
              "        border-radius: 50%;\n",
              "        cursor: pointer;\n",
              "        display: none;\n",
              "        fill: #1967D2;\n",
              "        height: 32px;\n",
              "        padding: 0 0 0 0;\n",
              "        width: 32px;\n",
              "      }\n",
              "\n",
              "      .colab-df-generate:hover {\n",
              "        background-color: #E2EBFA;\n",
              "        box-shadow: 0px 1px 2px rgba(60, 64, 67, 0.3), 0px 1px 3px 1px rgba(60, 64, 67, 0.15);\n",
              "        fill: #174EA6;\n",
              "      }\n",
              "\n",
              "      [theme=dark] .colab-df-generate {\n",
              "        background-color: #3B4455;\n",
              "        fill: #D2E3FC;\n",
              "      }\n",
              "\n",
              "      [theme=dark] .colab-df-generate:hover {\n",
              "        background-color: #434B5C;\n",
              "        box-shadow: 0px 1px 3px 1px rgba(0, 0, 0, 0.15);\n",
              "        filter: drop-shadow(0px 1px 2px rgba(0, 0, 0, 0.3));\n",
              "        fill: #FFFFFF;\n",
              "      }\n",
              "    </style>\n",
              "    <button class=\"colab-df-generate\" onclick=\"generateWithVariable('final')\"\n",
              "            title=\"Generate code using this dataframe.\"\n",
              "            style=\"display:none;\">\n",
              "\n",
              "  <svg xmlns=\"http://www.w3.org/2000/svg\" height=\"24px\"viewBox=\"0 0 24 24\"\n",
              "       width=\"24px\">\n",
              "    <path d=\"M7,19H8.4L18.45,9,17,7.55,7,17.6ZM5,21V16.75L18.45,3.32a2,2,0,0,1,2.83,0l1.4,1.43a1.91,1.91,0,0,1,.58,1.4,1.91,1.91,0,0,1-.58,1.4L9.25,21ZM18.45,9,17,7.55Zm-12,3A5.31,5.31,0,0,0,4.9,8.1,5.31,5.31,0,0,0,1,6.5,5.31,5.31,0,0,0,4.9,4.9,5.31,5.31,0,0,0,6.5,1,5.31,5.31,0,0,0,8.1,4.9,5.31,5.31,0,0,0,12,6.5,5.46,5.46,0,0,0,6.5,12Z\"/>\n",
              "  </svg>\n",
              "    </button>\n",
              "    <script>\n",
              "      (() => {\n",
              "      const buttonEl =\n",
              "        document.querySelector('#id_23ca3740-90cb-42b3-8297-42e288029aa5 button.colab-df-generate');\n",
              "      buttonEl.style.display =\n",
              "        google.colab.kernel.accessAllowed ? 'block' : 'none';\n",
              "\n",
              "      buttonEl.onclick = () => {\n",
              "        google.colab.notebook.generateWithVariable('final');\n",
              "      }\n",
              "      })();\n",
              "    </script>\n",
              "  </div>\n",
              "\n",
              "    </div>\n",
              "  </div>\n"
            ],
            "application/vnd.google.colaboratory.intrinsic+json": {
              "type": "dataframe",
              "variable_name": "final",
              "summary": "{\n  \"name\": \"final\",\n  \"rows\": 5124,\n  \"fields\": [\n    {\n      \"column\": \"Title\",\n      \"properties\": {\n        \"dtype\": \"string\",\n        \"num_unique_values\": 5095,\n        \"samples\": [\n          \"Zwei Partner auf 6 Pfoten (TV Series 1995\\u2013 ) - IMDb\",\n          \"Decad\\u00eancia (TV Mini Series 1995\\u2013 ) - IMDb\",\n          \"Maybe This Time (TV Series 1995\\u20131996) - IMDb\"\n        ],\n        \"semantic_type\": \"\",\n        \"description\": \"\"\n      }\n    },\n    {\n      \"column\": \"Director_name\",\n      \"properties\": {\n        \"dtype\": \"string\",\n        \"num_unique_values\": 4216,\n        \"samples\": [\n          \"Antonio Llerandi\",\n          \"Jo Andres\",\n          \"Maciej Slesicki\"\n        ],\n        \"semantic_type\": \"\",\n        \"description\": \"\"\n      }\n    },\n    {\n      \"column\": \"Rating\",\n      \"properties\": {\n        \"dtype\": \"category\",\n        \"num_unique_values\": 83,\n        \"samples\": [\n          \"4.8\",\n          \"7.2\",\n          \"6.4\"\n        ],\n        \"semantic_type\": \"\",\n        \"description\": \"\"\n      }\n    },\n    {\n      \"column\": \"Genres\",\n      \"properties\": {\n        \"dtype\": \"category\",\n        \"num_unique_values\": 144,\n        \"samples\": [\n          \"Road Trip\",\n          \"N/A\",\n          \"Western\"\n        ],\n        \"semantic_type\": \"\",\n        \"description\": \"\"\n      }\n    },\n    {\n      \"column\": \"Cast\",\n      \"properties\": {\n        \"dtype\": \"string\",\n        \"num_unique_values\": 3718,\n        \"samples\": [\n          \"Conor Evans\",\n          \"Rosario Santesmases\",\n          \"Peter Bongartz\"\n        ],\n        \"semantic_type\": \"\",\n        \"description\": \"\"\n      }\n    },\n    {\n      \"column\": \"Year\",\n      \"properties\": {\n        \"dtype\": \"category\",\n        \"num_unique_values\": 116,\n        \"samples\": [\n          \"1968\",\n          \"1992\",\n          \"1992\\u20132004\"\n        ],\n        \"semantic_type\": \"\",\n        \"description\": \"\"\n      }\n    },\n    {\n      \"column\": \"Number_of_votes\",\n      \"properties\": {\n        \"dtype\": \"category\",\n        \"num_unique_values\": 906,\n        \"samples\": [\n          \"199\",\n          \"124K\",\n          \"69\"\n        ],\n        \"semantic_type\": \"\",\n        \"description\": \"\"\n      }\n    },\n    {\n      \"column\": \"Runtime\",\n      \"properties\": {\n        \"dtype\": \"category\",\n        \"num_unique_values\": 256,\n        \"samples\": [\n          \"3h 4m\",\n          \"1h\",\n          \"2h 21m\"\n        ],\n        \"semantic_type\": \"\",\n        \"description\": \"\"\n      }\n    }\n  ]\n}"
            }
          },
          "metadata": {},
          "execution_count": 108
        }
      ]
    }
  ]
}